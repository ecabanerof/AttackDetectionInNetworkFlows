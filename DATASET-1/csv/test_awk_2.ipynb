{
 "cells": [
  {
   "cell_type": "markdown",
   "metadata": {},
   "source": [
    "## Let's start with a analysis of the dataset.\n",
    "We split the information in different files and the data size was considerable, that's why we want to take a look more deep into the information"
   ]
  },
  {
   "cell_type": "markdown",
   "metadata": {},
   "source": [
    "We DROP the next columns, with the following reasons:\n",
    "*   Fwd PSH Flags = Just 1 or 0, but the most values are 0's\n",
    "*   Bwd PSH Flags = All 0's\n",
    "*   Fwd URG Flags = All 0's\n",
    "*   Bwd URG Flags = All 0's\n",
    "\n",
    "*   URG Flag Count = All 0's\n",
    "*   CWR Flag Count = All 0's\t\n",
    "*   ECE Flag Count = All 0's\n",
    "\n",
    "*   Fwd Bytes/Bulk Avg = All 0's\n",
    "*   Fwd Packet/Bulk Avg\t= All 0's\n",
    "*   Fwd Bulk Rate Avg = All 0's\n"
   ]
  },
  {
   "cell_type": "code",
   "execution_count": 36,
   "metadata": {},
   "outputs": [
    {
     "name": "stdout",
     "output_type": "stream",
     "text": [
      "        Label           Traffic Type        Traffic Subtype   Counts\n",
      "0      Benign                  Audio                  Audio      190\n",
      "1      Benign             Background             Background       32\n",
      "2      Benign                   Text                   Text      209\n",
      "3      Benign                  Video             Video HTTP      376\n",
      "4      Benign                  Video              Video RTP      349\n",
      "5      Benign                  Video              Video UDP      145\n",
      "6   Malicious             Bruteforce         Bruteforce DNS    22179\n",
      "7   Malicious             Bruteforce         Bruteforce FTP     3485\n",
      "8   Malicious             Bruteforce        Bruteforce HTTP      628\n",
      "9   Malicious             Bruteforce         Bruteforce SSH     3967\n",
      "10  Malicious             Bruteforce      Bruteforce Telnet     4913\n",
      "11  Malicious                    DoS                DoS ACK   936307\n",
      "12  Malicious                    DoS                DoS CWR   872523\n",
      "13  Malicious                    DoS                DoS ECN   871150\n",
      "14  Malicious                    DoS                DoS FIN   725600\n",
      "15  Malicious                    DoS               DoS HTTP    82351\n",
      "16  Malicious                    DoS               DoS ICMP        9\n",
      "17  Malicious                    DoS                DoS MAC       30\n",
      "18  Malicious                    DoS                DoS PSH   909507\n",
      "19  Malicious                    DoS                DoS RST  1072504\n",
      "20  Malicious                    DoS                DoS SYN   856764\n",
      "21  Malicious                    DoS                DoS UDP   257994\n",
      "22  Malicious                    DoS                DoS URG   906190\n",
      "23  Malicious  Information Gathering  Information Gathering  1038363\n",
      "24  Malicious                  Mirai         Mirai DDoS ACK     3779\n",
      "25  Malicious                  Mirai         Mirai DDoS DNS    55196\n",
      "26  Malicious                  Mirai      Mirai DDoS GREETH       43\n",
      "27  Malicious                  Mirai       Mirai DDoS GREIP       49\n",
      "28  Malicious                  Mirai        Mirai DDoS HTTP     8923\n",
      "29  Malicious                  Mirai         Mirai DDoS SYN    14210\n",
      "30  Malicious                  Mirai         Mirai DDoS UDP       71\n",
      "31  Malicious                  Mirai  Mirai Scan Bruteforce     8731\n"
     ]
    }
   ],
   "source": [
    "import pandas as pd\n",
    "import matplotlib.pyplot as plt\n",
    "import seaborn as sns\n",
    "import numpy as np\n",
    "\n",
    "from sklearn.model_selection import train_test_split\n",
    "from sklearn.preprocessing import LabelEncoder, OneHotEncoder, StandardScaler\n",
    "from sklearn.ensemble import RandomForestClassifier, GradientBoostingClassifier\n",
    "from sklearn.linear_model import LogisticRegression\n",
    "from sklearn.svm import SVC\n",
    "from sklearn.pipeline import Pipeline\n",
    "from sklearn.impute import SimpleImputer\n",
    "from sklearn.compose import ColumnTransformer\n",
    "from sklearn.neighbors import KNeighborsClassifier\n",
    "from sklearn.model_selection import StratifiedKFold, RepeatedKFold, cross_validate\n",
    "from sklearn.utils import resample\n",
    "from sklearn.metrics import classification_report, confusion_matrix, ConfusionMatrixDisplay, RocCurveDisplay\n",
    "\n",
    "import warnings\n",
    "import time\n",
    "\n",
    "import keras\n",
    "\n",
    "TARGET_VARIABLE = 'Traffic Subtype'\n",
    "DROP_COLUMNS = ['Flow ID', 'Src IP', 'Src Port', 'Dst IP', 'Dst Port', 'Timestamp',\n",
    "                'Fwd PSH Flags','Bwd PSH Flags','Fwd URG Flags','Bwd URG Flags',\n",
    "                'URG Flag Count', 'CWR Flag Count', 'ECE Flag Count',\n",
    "                'Fwd Bytes/Bulk Avg', 'Fwd Packet/Bulk Avg', 'Fwd Bulk Rate Avg']\n",
    "\n",
    "#TARGET_TO_DROP = {'Label': ['Traffic Type', 'Traffic Subtype'],\n",
    "#                  'Traffic Type': ['Label', 'Traffic Subtype'],\n",
    "#                  'Traffic Subtype': ['Label', 'Traffic Type']}\n",
    "\n",
    "#Load extracted data\n",
    "df = pd.read_csv(\"data.csv\")\n",
    "\n",
    "# Initial data overview\n",
    "counts = df.groupby(['Label', 'Traffic Type', 'Traffic Subtype']).size().reset_index(name='Counts')\n",
    "print(counts)\n"
   ]
  },
  {
   "cell_type": "code",
   "execution_count": 37,
   "metadata": {},
   "outputs": [],
   "source": [
    "# Drop collumns and timestamp\n",
    "df = df.drop(columns=DROP_COLUMNS)\n",
    "\n",
    "# Filter out duplicates within the same target\n",
    "df = df.round(3)\n",
    "df = df.drop_duplicates()\n",
    "#df = df.drop(columns=TARGET_TO_DROP[TARGET_VARIABLE])\n",
    "\n",
    "# Separate features and target\n",
    "X = df.drop(TARGET_VARIABLE, axis=1)\n",
    "y = df[TARGET_VARIABLE]\n",
    "\n",
    "\n"
   ]
  },
  {
   "cell_type": "markdown",
   "metadata": {},
   "source": [
    "Split dataset in types\n"
   ]
  },
  {
   "cell_type": "code",
   "execution_count": 38,
   "metadata": {},
   "outputs": [],
   "source": [
    "df_audio = df[df['Traffic Type'] == 'Audio']\n",
    "df_video = df[df['Traffic Type'] == 'Video']\n",
    "df_text = df[df['Traffic Type'] == 'Text']\n",
    "df_Background = df[df['Traffic Type'] == 'Background']\n",
    "df_Dos = df[df['Traffic Type'] == 'DoS']\n",
    "df_Info_G = df[df['Traffic Type'] == 'Information Gathering']\n",
    "df_Mirai = df[df['Traffic Type'] == 'Mirai']\n",
    "df_Bruteforce = df[df['Traffic Type'] == 'Bruteforce']\n"
   ]
  },
  {
   "cell_type": "markdown",
   "metadata": {},
   "source": [
    "Let's do this with 'Audio' Type as an example, we have 70 characteristics"
   ]
  },
  {
   "cell_type": "code",
   "execution_count": 39,
   "metadata": {},
   "outputs": [
    {
     "data": {
      "image/png": "[encoded data removed]",
      "text/plain": [
       "<Figure size 640x480 with 1 Axes>"
      ]
     },
     "metadata": {},
     "output_type": "display_data"
    },
    {
     "data": {
      "image/png": "[encoded data removed]",
      "text/plain": [
       "<Figure size 640x480 with 1 Axes>"
      ]
     },
     "metadata": {},
     "output_type": "display_data"
    }
   ],
   "source": [
    "plt.figure()\n",
    "plt.hist(df_audio[\"Flow Duration\"],bins=24);\n",
    "plt.grid()\n",
    "\n",
    "plt.figure()\n",
    "plt.hist(X[\"Flow Duration\"],bins=24);\n",
    "plt.yscale(\"log\")\n",
    "plt.grid()"
   ]
  },
  {
   "cell_type": "code",
   "execution_count": 40,
   "metadata": {},
   "outputs": [],
   "source": [
    "# Encode target\n",
    "le = LabelEncoder()\n",
    "y = le.fit_transform(y)\n",
    "\n",
    "# Compute train and test split\n",
    "X_train, X_test, y_train, y_test = train_test_split(X, y, stratify=y, test_size=0.2, random_state=42) "
   ]
  },
  {
   "cell_type": "code",
   "execution_count": 41,
   "metadata": {},
   "outputs": [],
   "source": [
    "# Identifying Numerical and Categorical columns\n",
    "numerical_cols = X_train.select_dtypes(include=[np.number]).columns.to_list()\n",
    "numerical_cols.remove('Protocol')\n",
    "categorical_cols = X_train.select_dtypes(include=[object]).columns.to_list()\n",
    "categorical_cols.append('Protocol')\n",
    "\n",
    "# Pipelines for Numerical and Categorical Data Transformations\n",
    "numerical_transformer = Pipeline(steps=[\n",
    "    ('imputer', SimpleImputer(strategy='mean')),\n",
    "    ('scaler', StandardScaler())\n",
    "])\n",
    "\n",
    "categorical_transformer = Pipeline(steps=[\n",
    "    ('imputer', SimpleImputer(strategy='most_frequent')),\n",
    "    ('onehot', OneHotEncoder(handle_unknown='ignore'))\n",
    "])\n",
    "\n",
    "# Column Transformer combining both pipelines\n",
    "preprocessor = ColumnTransformer(\n",
    "    transformers=[\n",
    "        ('num', numerical_transformer, numerical_cols),\n",
    "        ('cat', categorical_transformer, categorical_cols)\n",
    "    ]\n",
    ")\n",
    "\n",
    "# Apply preprocessor to train and test data\n",
    "preprocessor.fit(X_train)\n",
    "X_train = preprocessor.transform(X_train)\n",
    "X_test = preprocessor.transform(X_test)"
   ]
  },
  {
   "cell_type": "code",
   "execution_count": 42,
   "metadata": {},
   "outputs": [],
   "source": [
    "classifiers = [\n",
    "    LogisticRegression(),\n",
    "    RandomForestClassifier(512, max_depth=3, random_state=0),\n",
    "    GradientBoostingClassifier(max_depth=3, random_state=0),\n",
    "    KNeighborsClassifier(n_neighbors=1),\n",
    "    KNeighborsClassifier(n_neighbors=3),\n",
    "    #SVC(kernel=\"rbf\", gamma=1),\n",
    "    #SVC(kernel=\"linear\"),\n",
    "]"
   ]
  },
  {
   "cell_type": "code",
   "execution_count": 43,
   "metadata": {},
   "outputs": [
    {
     "name": "stdout",
     "output_type": "stream",
     "text": [
      "LogisticRegression()\n",
      "Fit time [667.83724308 672.15237761 681.3868928 ]\n",
      "Predict time [2.67472315 2.72918773 2.42602396]\n",
      "accuracy [0.74377895 0.74124387 0.74760097]\n",
      "precision [nan nan nan]\n",
      "recall [nan nan nan]\n",
      "f1 [nan nan nan]\n",
      "roc_auc [nan nan nan]\n",
      "------\n",
      "RandomForestClassifier(max_depth=3, n_estimators=512, random_state=0)\n",
      "Fit time [3991.56858563 4016.89233375 4019.2948072 ]\n",
      "Predict time [444.40729547 451.2275815  450.41740274]\n",
      "accuracy [0.61850271 0.61844851 0.61848797]\n",
      "precision [nan nan nan]\n",
      "recall [nan nan nan]\n",
      "f1 [nan nan nan]\n",
      "roc_auc [nan nan nan]\n",
      "------\n"
     ]
    }
   ],
   "source": [
    "def warn(*args, **kwargs):\n",
    "    pass\n",
    "warnings.old_warn = warnings.warn\n",
    "warnings.warn = warn\n",
    "metrics = [\"accuracy\", \"precision\", \"recall\", \"f1\", \"roc_auc\"]\n",
    "\n",
    "cv = StratifiedKFold(n_splits=3, random_state=42, shuffle=True)\n",
    "for clf in classifiers:\n",
    "  cv_results = cross_validate(clf, X_train, y_train, cv=cv, n_jobs=-1, scoring=metrics)\n",
    "  print(str(clf))\n",
    "  print(\"Fit time\", cv_results['fit_time'])\n",
    "  print(\"Predict time\", cv_results['score_time'])\n",
    "  for m in metrics:\n",
    "    print(m, cv_results[f'test_{m}'])\n",
    "  print(\"------\")"
   ]
  },
  {
   "cell_type": "code",
   "execution_count": null,
   "metadata": {},
   "outputs": [],
   "source": [
    "cv = UpsampledRepeatedKFold(n_splits=5, random_state=42)\n",
    "\n",
    "for clf in classifiers:\n",
    "  cv_results = cross_validate(clf, X_train, y_train.values.ravel(), cv=cv, n_jobs=-1, scoring=metrics)\n",
    "  print(str(clf))\n",
    "  print(\"Fit time\", cv_results['fit_time'])\n",
    "  print(\"Predict time\", cv_results['score_time'])\n",
    "  for m in metrics:\n",
    "    print(m, cv_results[f'test_{m}'])\n",
    "  print(\"------\")"
   ]
  },
  {
   "cell_type": "code",
   "execution_count": null,
   "metadata": {},
   "outputs": [],
   "source": [
    "def upsampled_indices(y):\n",
    "  # get index of major class (negative)\n",
    "  idxs_class0 = np.argwhere(y == 0).ravel()\n",
    "  # get index of minor class (positive)\n",
    "  idxs_class1 = np.argwhere(y == 1).ravel()\n",
    "  # get length of major class\n",
    "  len_major = len(idxs_class0)\n",
    "  # subsample of major class of size minor class\n",
    "  idxs_class1_upsampled = np.random.choice(idxs_class1, size=len_major, replace=True)\n",
    "  original_indx_upsampled = np.hstack((idxs_class1_upsampled, idxs_class0))\n",
    "  np.random.shuffle(original_indx_upsampled)\n",
    "  return original_indx_upsampled\n",
    "new_indices = upsampled_indices(y_train.values.ravel())\n",
    "upsampled_X_train = X_train.iloc[new_indices,:]\n",
    "upsampled_y_train = y_train.iloc[new_indices,:]"
   ]
  },
  {
   "cell_type": "markdown",
   "metadata": {},
   "source": [
    "## RANDOM FOREST"
   ]
  },
  {
   "cell_type": "code",
   "execution_count": null,
   "metadata": {},
   "outputs": [
    {
     "ename": "NameError",
     "evalue": "name 'upsampled_X_train' is not defined",
     "output_type": "error",
     "traceback": [
      "\u001b[1;31m---------------------------------------------------------------------------\u001b[0m",
      "\u001b[1;31mNameError\u001b[0m                                 Traceback (most recent call last)",
      "File \u001b[1;32m<timed exec>:2\u001b[0m\n",
      "\u001b[1;31mNameError\u001b[0m: name 'upsampled_X_train' is not defined"
     ]
    }
   ],
   "source": [
    "%%time\n",
    "clf = RandomForestClassifier(512, max_depth=7, random_state=0)\n",
    "clf.fit(upsampled_X_train, upsampled_y_train)"
   ]
  }
 ],
 "metadata": {
  "kernelspec": {
   "display_name": "base",
   "language": "python",
   "name": "python3"
  },
  "language_info": {
   "codemirror_mode": {
    "name": "ipython",
    "version": 3
   },
   "file_extension": ".py",
   "mimetype": "text/x-python",
   "name": "python",
   "nbconvert_exporter": "python",
   "pygments_lexer": "ipython3",
   "version": "3.9.18"
  }
 },
 "nbformat": 4,
 "nbformat_minor": 2
}
